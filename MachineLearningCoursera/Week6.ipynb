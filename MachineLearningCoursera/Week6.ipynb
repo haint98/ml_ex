{
 "cells": [
  {
   "cell_type": "code",
   "execution_count": 1,
   "metadata": {},
   "outputs": [],
   "source": [
    "import numpy as np \n",
    "from scipy.io import loadmat \n",
    "import matplotlib.pyplot as plt\n",
    "from scipy import optimize "
   ]
  },
  {
   "cell_type": "code",
   "execution_count": 2,
   "metadata": {},
   "outputs": [],
   "source": [
    "data = loadmat('ex5data1.mat')"
   ]
  },
  {
   "cell_type": "code",
   "execution_count": 3,
   "metadata": {},
   "outputs": [
    {
     "data": {
      "text/plain": [
       "dict_keys(['__header__', '__version__', '__globals__', 'X', 'y', 'Xtest', 'ytest', 'Xval', 'yval'])"
      ]
     },
     "execution_count": 3,
     "metadata": {},
     "output_type": "execute_result"
    }
   ],
   "source": [
    "data.keys()"
   ]
  },
  {
   "cell_type": "code",
   "execution_count": 4,
   "metadata": {},
   "outputs": [],
   "source": [
    "X = data['X']\n",
    "y = data['y']\n",
    "X_val = data['Xval']\n",
    "y_val = data['yval']\n",
    "X_test = data['Xtest']\n",
    "y_test = data['ytest']"
   ]
  },
  {
   "cell_type": "code",
   "execution_count": 5,
   "metadata": {},
   "outputs": [
    {
     "name": "stdout",
     "output_type": "stream",
     "text": [
      "(12, 1)\n",
      "(12, 1)\n",
      "(21, 1)\n",
      "(21, 1)\n"
     ]
    }
   ],
   "source": [
    "print(X.shape)\n",
    "print(y.shape)\n",
    "print(X_val.shape)\n",
    "print(y_val.shape)"
   ]
  },
  {
   "cell_type": "code",
   "execution_count": 6,
   "metadata": {},
   "outputs": [
    {
     "data": {
      "image/png": "[encoded data removed]",
      "text/plain": [
       "<Figure size 432x288 with 1 Axes>"
      ]
     },
     "metadata": {
      "needs_background": "light"
     },
     "output_type": "display_data"
    }
   ],
   "source": [
    "#Visualize data set\n",
    "plt.scatter(X,y,marker =\"x\", c =\"r\")\n",
    "plt.ylabel(\"Water following out of the dam(y)\")\n",
    "plt.xlabel(\"Change in water level(x)\")\n",
    "plt.show()"
   ]
  },
  {
   "cell_type": "code",
   "execution_count": 7,
   "metadata": {},
   "outputs": [],
   "source": [
    "# Regularized linear regression cost function \n",
    "def linearRegcostfunction(theta, X, y,lamda):\n",
    "    theta = theta.reshape(2,1)\n",
    "    m = len(y)\n",
    "    J = 0\n",
    "    X = np.hstack((np.ones((m, 1)), X))\n",
    "    h = X.dot(theta)\n",
    "    J = (1/(2*m))*np.sum((h - y)**2) + (lamda/ (2*m))*np.sum((theta[1:])**2) \n",
    "    grad = (1/m)*((h-y).T.dot(X))\n",
    "    grad[:,1] = grad[:,1]+(lamda/m)*theta[1:]\n",
    "    return J, grad.ravel()"
   ]
  },
  {
   "cell_type": "code",
   "execution_count": 8,
   "metadata": {},
   "outputs": [],
   "source": [
    "theta = np.ones((2))\n",
    "J_, grad_= linearRegcostfunction(theta, X, y, 1)"
   ]
  },
  {
   "cell_type": "code",
   "execution_count": 9,
   "metadata": {},
   "outputs": [
    {
     "name": "stdout",
     "output_type": "stream",
     "text": [
      "J:  303.9931922202643\n",
      "grad: [-15.30301567 598.25074417]\n",
      "(12, 1)\n"
     ]
    }
   ],
   "source": [
    "print(\"J: \", J_) \n",
    "print(\"grad:\", grad_)\n",
    "print(X.shape)"
   ]
  },
  {
   "cell_type": "code",
   "execution_count": 10,
   "metadata": {},
   "outputs": [],
   "source": [
    "# #fitting linear regression \n",
    "def trainLinearReg(X, y, lamda):\n",
    "    init_theta = np.zeros((2))\n",
    "    theta = optimize.minimize( fun = linearRegcostfunction, x0 = init_theta ,args = (X, y, lamda),method = 'CG', jac = True, options = {'maxiter' : 200} )\n",
    "    return theta"
   ]
  },
  {
   "cell_type": "code",
   "execution_count": 70,
   "metadata": {},
   "outputs": [
    {
     "name": "stdout",
     "output_type": "stream",
     "text": [
      "(2,)\n"
     ]
    }
   ],
   "source": [
    "trained = trainLinearReg(X, y, 1)\n",
    "print(trained.x.shape)"
   ]
  },
  {
   "cell_type": "code",
   "execution_count": 71,
   "metadata": {},
   "outputs": [],
   "source": [
    "theta_trained = trained.x.reshape(2,1)"
   ]
  },
  {
   "cell_type": "code",
   "execution_count": 72,
   "metadata": {},
   "outputs": [
    {
     "data": {
      "image/png": "[encoded data removed]",
      "text/plain": [
       "<Figure size 432x288 with 1 Axes>"
      ]
     },
     "metadata": {
      "needs_background": "light"
     },
     "output_type": "display_data"
    }
   ],
   "source": [
    "X_au = np.hstack((np.ones((len(y),1)), X))\n",
    "plt.xlabel('Change in water level(x)')\n",
    "plt.ylabel('Water flowing out of the dam(y)')\n",
    "plt.plot(X,y, 'rx')\n",
    "plt.plot(X, X_au.dot(theta_trained))\n",
    "plt.show()"
   ]
  },
  {
   "cell_type": "code",
   "execution_count": 151,
   "metadata": {},
   "outputs": [],
   "source": [
    "#Learning curve\n",
    "def learning_curve(X,y,Xval, yval, lamda):\n",
    "    m_train = X.shape[0]\n",
    "    m_valid = Xval.shape[0]\n",
    "    error_train = np.zeros(m_train)\n",
    "    error_valid = np.zeros(m_train)\n",
    "    Xval = np.hstack((np.ones((m_valid,1)),Xval))\n",
    "#     yval = np.hstack((np.ones((m_valid,1)),yval))\n",
    "    for i in range(m_train):\n",
    "        data_set = X[0:i+1,:] #(i+1, 2)\n",
    "        labels = y[0:i+1,:] #(i+1, 1)\n",
    "        t = trainLinearReg(data_set, labels, 1)\n",
    "        theta_trained = t.x.reshape(2,1)\n",
    "        h_train = np.hstack((np.ones((i+1,1)),data_set)).dot(theta_trained)\n",
    "        h_valid = Xval.dot(theta_trained)\n",
    "        error_train[i] = (1/(2*(i+1)))*np.sum((h_train - labels)**2)\n",
    "        error_valid[i] = (1/(2*(m_valid)))*np.sum((h_valid - yval)**2)\n",
    "    return error_train, error_valid "
   ]
  },
  {
   "cell_type": "code",
   "execution_count": 152,
   "metadata": {},
   "outputs": [],
   "source": [
    "error_train_, error_valid_ = learning_curve(X,y,X_val, y_val,1)"
   ]
  },
  {
   "cell_type": "code",
   "execution_count": 156,
   "metadata": {},
   "outputs": [
    {
     "data": {
      "text/plain": [
       "Text(0.5, 0, 'Number of trainning examples')"
      ]
     },
     "execution_count": 156,
     "metadata": {},
     "output_type": "execute_result"
    },
    {
     "data": {
      "image/png": "[encoded data removed]",
      "text/plain": [
       "<Figure size 432x288 with 1 Axes>"
      ]
     },
     "metadata": {
      "needs_background": "light"
     },
     "output_type": "display_data"
    }
   ],
   "source": [
    "#plot data\n",
    "num_data = np.arange(1, error_train_.size +1)\n",
    "plt.plot(num_data, error_train_)\n",
    "plt.plot(num_data, error_valid_)\n",
    "plt.xlabel(\"Number of trainning examples\")"
   ]
  },
  {
   "cell_type": "code",
   "execution_count": 155,
   "metadata": {},
   "outputs": [],
   "source": [
    "#poly feature"
   ]
  },
  {
   "cell_type": "code",
   "execution_count": null,
   "metadata": {},
   "outputs": [],
   "source": []
  }
 ],
 "metadata": {
  "kernelspec": {
   "display_name": "Python 3.6.9 64-bit",
   "language": "python",
   "name": "python36964bitc97d2dbbc4674a7ca2ed5d5b98ce4660"
  },
  "language_info": {
   "codemirror_mode": {
    "name": "ipython",
    "version": 3
   },
   "file_extension": ".py",
   "mimetype": "text/x-python",
   "name": "python",
   "nbconvert_exporter": "python",
   "pygments_lexer": "ipython3",
   "version": "3.6.9"
  }
 },
 "nbformat": 4,
 "nbformat_minor": 4
}
