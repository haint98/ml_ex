{
 "cells": [
  {
   "cell_type": "code",
   "execution_count": 1,
   "metadata": {},
   "outputs": [],
   "source": [
    "import cv2\n",
    "import numpy as np\n",
    "import matplotlib.pyplot as plt \n",
    "from scipy.io import loadmat\n",
    "import pandas as pd"
   ]
  },
  {
   "cell_type": "code",
   "execution_count": 2,
   "metadata": {},
   "outputs": [],
   "source": [
    "data = loadmat('ex4data1.mat')\n",
    "theta_data = loadmat('ex4weights.mat')\n",
    "X = data['X'] #5000x400\n",
    "y = data['y'] #5000x1\n",
    "theta1 = theta_data['Theta1'] #25x401\n",
    "theta2 = theta_data['Theta2'] #10x26\n",
    "y[y==10]= 0 \n",
    "m = y.size\n",
    "plt.rcParams['figure.figsize'] = [11, 11]"
   ]
  },
  {
   "cell_type": "code",
   "execution_count": 3,
   "metadata": {},
   "outputs": [
    {
     "name": "stderr",
     "output_type": "stream",
     "text": [
      "c:\\users\\clgt1\\appdata\\local\\programs\\python\\python37\\lib\\site-packages\\matplotlib\\text.py:1150: FutureWarning: elementwise comparison failed; returning scalar instead, but in the future will perform elementwise comparison\n",
      "  if s != self._text:\n"
     ]
    },
    {
     "data": {
      "image/png": "[encoded data removed]",
      "text/plain": [
       "<Figure size 792x792 with 9 Axes>"
      ]
     },
     "metadata": {
      "needs_background": "light"
     },
     "output_type": "display_data"
    }
   ],
   "source": [
    "rand_indices = np.random.choice(m, 10, replace  = False)\n",
    "for i in range(9):\n",
    "    plt.subplot(3,3,i+1)\n",
    "    plt.title(y[rand_indices[i]])\n",
    "    plt.imshow(X[rand_indices[i]].reshape(20,20).T, cmap = 'gray')"
   ]
  },
  {
   "cell_type": "code",
   "execution_count": 4,
   "metadata": {},
   "outputs": [],
   "source": [
    "def sigmoid(z):\n",
    "    return (1/ (1 + np.exp(-z)))"
   ]
  },
  {
   "cell_type": "code",
   "execution_count": 5,
   "metadata": {},
   "outputs": [],
   "source": [
    "def feed_forward(X, theta1, theta2):\n",
    "    m = len(X)\n",
    "    out = np.hstack((np.ones((m,1)),X))  #5000x401\n",
    "    out =  out.dot(theta1.T)     #5000x25\n",
    "    out = sigmoid(out)      #5000x25\n",
    "    out = np.hstack((np.ones((m,1)),out)) #5000x26\n",
    "    out = out.dot(theta2.T)    #5000x10\n",
    "    out = sigmoid(out)              #5000x10\n",
    "    return out       "
   ]
  },
  {
   "cell_type": "code",
   "execution_count": 6,
   "metadata": {},
   "outputs": [
    {
     "name": "stdout",
     "output_type": "stream",
     "text": [
      "(10, 26)\n",
      "(25, 401)\n"
     ]
    }
   ],
   "source": [
    "out = feed_forward(X, theta1, theta2)\n",
    "print(theta2.shape)\n",
    "print(theta1.shape)"
   ]
  },
  {
   "cell_type": "code",
   "execution_count": 7,
   "metadata": {},
   "outputs": [],
   "source": [
    "#y.shape = 5000x1\n",
    "def loss_and_gradient(X,y,theta1 , theta2, lamda = 0):    \n",
    "    y = pd.get_dummies(y.ravel()).to_numpy()\n",
    "    m = len(X)\n",
    "    out1 = np.hstack((np.ones((m,1)),X)) #5000x401\n",
    "    out1b  = out1.dot(theta1.T) #5000x25\n",
    "    a2 = sigmoid(out1b) #5000*25\n",
    "    out2= np.hstack((np.ones((m,1)),a2))\n",
    "    out3b = out2.dot(theta2.T)\n",
    "    a3 = sigmoid(out3b)\n",
    "    J = (1/m)*((y*np.log(a3)) -(1-y)*np.log(1- a3)).sum() + (lamda/2*m)*((theta1[:,1:]**2).sum()+ (theta2[:,1:]**2).sum())\n",
    "    #Backpropagation \n",
    "    delta3 = a3 - y #5000x10 \n",
    "    delta2 = (theta2[:,1:].T).dot(delta3.T)*a2.T*(1- a2).T  #25x5000\n",
    "    \n",
    "    grad_2 = 1/m * delta3.T.dot(out2)  #10x25\n",
    "    grad_1 = 1/m * delta2.dot(out1) #25x401\n",
    "    theta1_reg = np.c_[np.ones((theta1.shape[0],1)),theta1[:,1:]]\n",
    "    theta2_reg = np.c_[np.ones((theta2.shape[0],1)),theta2[:,1:]]\n",
    "    theta1_grad = grad_1/m + (theta1_reg * lamda)/m \n",
    "    theta2_grad= grad_2/m + (theta2_reg * lamda)/m\n",
    "    return J, theta1_grad, theta2_grad"
   ]
  },
  {
   "cell_type": "code",
   "execution_count": 8,
   "metadata": {},
   "outputs": [],
   "source": [
    "def predict(X, theta1, theta2):\n",
    "    out = feed_forward(X, theta1, theta2)\n",
    "    return np.argmax(out)"
   ]
  },
  {
   "cell_type": "code",
   "execution_count": 9,
   "metadata": {},
   "outputs": [],
   "source": [
    "loss, grad1, grad2 = loss_and_gradient(X,y, theta1, theta2)"
   ]
  },
  {
   "cell_type": "code",
   "execution_count": 10,
   "metadata": {},
   "outputs": [
    {
     "name": "stdout",
     "output_type": "stream",
     "text": [
      "Iter: 0, loss: 121.3378\n",
      "Accuracy: 0.1000\n",
      "Iter: 100, loss: 121.3336\n",
      "Accuracy: 0.1000\n",
      "Iter: 200, loss: 121.3294\n",
      "Accuracy: 0.1000\n",
      "Iter: 300, loss: 121.3252\n",
      "Accuracy: 0.1000\n",
      "Iter: 400, loss: 121.3210\n",
      "Accuracy: 0.1000\n",
      "Iter: 500, loss: 121.3168\n",
      "Accuracy: 0.1000\n",
      "Iter: 600, loss: 121.3125\n",
      "Accuracy: 0.1000\n"
     ]
    },
    {
     "ename": "KeyboardInterrupt",
     "evalue": "",
     "output_type": "error",
     "traceback": [
      "\u001b[1;31m---------------------------------------------------------------------------\u001b[0m",
      "\u001b[1;31mKeyboardInterrupt\u001b[0m                         Traceback (most recent call last)",
      "\u001b[1;32m<ipython-input-10-6a1d2261b2ea>\u001b[0m in \u001b[0;36m<module>\u001b[1;34m\u001b[0m\n\u001b[0;32m      5\u001b[0m \u001b[0mlr\u001b[0m \u001b[1;33m=\u001b[0m \u001b[1;36m1e-3\u001b[0m\u001b[1;33m\u001b[0m\u001b[1;33m\u001b[0m\u001b[0m\n\u001b[0;32m      6\u001b[0m \u001b[1;32mwhile\u001b[0m \u001b[1;32mTrue\u001b[0m\u001b[1;33m:\u001b[0m\u001b[1;33m\u001b[0m\u001b[1;33m\u001b[0m\u001b[0m\n\u001b[1;32m----> 7\u001b[1;33m     \u001b[0mloss\u001b[0m\u001b[1;33m,\u001b[0m \u001b[0mgrad1\u001b[0m\u001b[1;33m,\u001b[0m \u001b[0mgrad2\u001b[0m \u001b[1;33m=\u001b[0m \u001b[0mloss_and_gradient\u001b[0m\u001b[1;33m(\u001b[0m\u001b[0mX\u001b[0m\u001b[1;33m,\u001b[0m\u001b[0my\u001b[0m\u001b[1;33m,\u001b[0m \u001b[0mtheta1\u001b[0m\u001b[1;33m,\u001b[0m \u001b[0mtheta2\u001b[0m\u001b[1;33m)\u001b[0m\u001b[1;33m\u001b[0m\u001b[1;33m\u001b[0m\u001b[0m\n\u001b[0m\u001b[0;32m      8\u001b[0m \u001b[1;33m\u001b[0m\u001b[0m\n\u001b[0;32m      9\u001b[0m     \u001b[0mtheta1\u001b[0m \u001b[1;33m-=\u001b[0m \u001b[0mlr\u001b[0m \u001b[1;33m*\u001b[0m \u001b[0mgrad1\u001b[0m\u001b[1;33m\u001b[0m\u001b[1;33m\u001b[0m\u001b[0m\n",
      "\u001b[1;32m<ipython-input-7-14926033d13a>\u001b[0m in \u001b[0;36mloss_and_gradient\u001b[1;34m(X, y, theta1, theta2, lamda)\u001b[0m\n\u001b[0;32m      4\u001b[0m     \u001b[0mm\u001b[0m \u001b[1;33m=\u001b[0m \u001b[0mlen\u001b[0m\u001b[1;33m(\u001b[0m\u001b[0mX\u001b[0m\u001b[1;33m)\u001b[0m\u001b[1;33m\u001b[0m\u001b[1;33m\u001b[0m\u001b[0m\n\u001b[0;32m      5\u001b[0m     \u001b[0mout1\u001b[0m \u001b[1;33m=\u001b[0m \u001b[0mnp\u001b[0m\u001b[1;33m.\u001b[0m\u001b[0mhstack\u001b[0m\u001b[1;33m(\u001b[0m\u001b[1;33m(\u001b[0m\u001b[0mnp\u001b[0m\u001b[1;33m.\u001b[0m\u001b[0mones\u001b[0m\u001b[1;33m(\u001b[0m\u001b[1;33m(\u001b[0m\u001b[0mm\u001b[0m\u001b[1;33m,\u001b[0m\u001b[1;36m1\u001b[0m\u001b[1;33m)\u001b[0m\u001b[1;33m)\u001b[0m\u001b[1;33m,\u001b[0m\u001b[0mX\u001b[0m\u001b[1;33m)\u001b[0m\u001b[1;33m)\u001b[0m \u001b[1;31m#5000x401\u001b[0m\u001b[1;33m\u001b[0m\u001b[1;33m\u001b[0m\u001b[0m\n\u001b[1;32m----> 6\u001b[1;33m     \u001b[0mout1b\u001b[0m  \u001b[1;33m=\u001b[0m \u001b[0mout1\u001b[0m\u001b[1;33m.\u001b[0m\u001b[0mdot\u001b[0m\u001b[1;33m(\u001b[0m\u001b[0mtheta1\u001b[0m\u001b[1;33m.\u001b[0m\u001b[0mT\u001b[0m\u001b[1;33m)\u001b[0m \u001b[1;31m#5000x25\u001b[0m\u001b[1;33m\u001b[0m\u001b[1;33m\u001b[0m\u001b[0m\n\u001b[0m\u001b[0;32m      7\u001b[0m     \u001b[0ma2\u001b[0m \u001b[1;33m=\u001b[0m \u001b[0msigmoid\u001b[0m\u001b[1;33m(\u001b[0m\u001b[0mout1b\u001b[0m\u001b[1;33m)\u001b[0m \u001b[1;31m#5000*25\u001b[0m\u001b[1;33m\u001b[0m\u001b[1;33m\u001b[0m\u001b[0m\n\u001b[0;32m      8\u001b[0m     \u001b[0mout2\u001b[0m\u001b[1;33m=\u001b[0m \u001b[0mnp\u001b[0m\u001b[1;33m.\u001b[0m\u001b[0mhstack\u001b[0m\u001b[1;33m(\u001b[0m\u001b[1;33m(\u001b[0m\u001b[0mnp\u001b[0m\u001b[1;33m.\u001b[0m\u001b[0mones\u001b[0m\u001b[1;33m(\u001b[0m\u001b[1;33m(\u001b[0m\u001b[0mm\u001b[0m\u001b[1;33m,\u001b[0m\u001b[1;36m1\u001b[0m\u001b[1;33m)\u001b[0m\u001b[1;33m)\u001b[0m\u001b[1;33m,\u001b[0m\u001b[0ma2\u001b[0m\u001b[1;33m)\u001b[0m\u001b[1;33m)\u001b[0m\u001b[1;33m\u001b[0m\u001b[1;33m\u001b[0m\u001b[0m\n",
      "\u001b[1;31mKeyboardInterrupt\u001b[0m: "
     ]
    }
   ],
   "source": [
    "#Trainning \n",
    "theta1 = np.random.rand(25, 401)\n",
    "theta2 = np.random.rand(10, 26)\n",
    "i = 0\n",
    "lr = 1e-3\n",
    "while True:\n",
    "    loss, grad1, grad2 = loss_and_gradient(X,y, theta1, theta2)\n",
    "    \n",
    "    theta1 -= lr * grad1\n",
    "    theta2 -= lr * grad2\n",
    "    pred = predict(X, theta1, theta2)\n",
    "    acc = pred == (y.ravel())\n",
    "    \n",
    "    if i % 100 == 0:\n",
    "        print('Iter: {}, loss: {:.4f}'.format(i, loss))\n",
    "        print('Accuracy: {:.4f}'.format(acc.sum() / m))\n",
    "    i += 1\n",
    "    if i == 1000:\n",
    "        break"
   ]
  },
  {
   "cell_type": "code",
   "execution_count": null,
   "metadata": {},
   "outputs": [],
   "source": []
  },
  {
   "cell_type": "code",
   "execution_count": null,
   "metadata": {},
   "outputs": [],
   "source": []
  }
 ],
 "metadata": {
  "kernelspec": {
   "display_name": "Python 3",
   "language": "python",
   "name": "python3"
  },
  "language_info": {
   "codemirror_mode": {
    "name": "ipython",
    "version": 3
   },
   "file_extension": ".py",
   "mimetype": "text/x-python",
   "name": "python",
   "nbconvert_exporter": "python",
   "pygments_lexer": "ipython3",
   "version": "3.7.2"
  }
 },
 "nbformat": 4,
 "nbformat_minor": 4
}
